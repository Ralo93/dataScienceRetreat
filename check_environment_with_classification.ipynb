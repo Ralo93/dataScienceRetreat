{
 "cells": [
  {
   "cell_type": "code",
   "execution_count": 1,
   "id": "8c738afc-4bc9-4a64-a0d9-ce10fba4ba63",
   "metadata": {},
   "outputs": [],
   "source": [
    "# Importing necessary libraries\n",
    "import numpy as np\n",
    "import pandas as pd\n",
    "from sklearn.datasets import make_classification\n",
    "from sklearn.model_selection import train_test_split\n",
    "from sklearn.ensemble import RandomForestClassifier\n",
    "from sklearn.metrics import accuracy_score, classification_report\n"
   ]
  },
  {
   "cell_type": "code",
   "execution_count": 7,
   "id": "9e17bc77-0a5c-49ed-a903-f1346c948f4d",
   "metadata": {},
   "outputs": [
    {
     "name": "stdout",
     "output_type": "stream",
     "text": [
      "Sample Data:\n",
      "   feature_1  feature_2  feature_3  feature_4  feature_5  feature_6  \\\n",
      "0  -4.906442   3.442789   0.558964  -0.976764  -1.568805  -4.271982   \n",
      "1   2.162610  -5.286651   2.609846  -1.803898  -1.831216   1.450757   \n",
      "2  -4.784844  -3.744827   4.657592  -1.408806  -5.444758  -2.416013   \n",
      "3  10.465024   1.070944  -3.562432  -0.849062   2.183860  -0.609893   \n",
      "4   5.599516  -1.776412  -1.304322  -0.720074   5.859373  -3.292432   \n",
      "\n",
      "   feature_7  feature_8  feature_9  feature_10  ...  feature_12  feature_13  \\\n",
      "0  -3.727921   0.111868   2.119795   -2.522812  ...   -7.492478    4.264669   \n",
      "1   2.648709   2.152307   0.524552    0.493548  ...    6.680603   -2.431830   \n",
      "2   3.556495  -1.572119  -0.730549    3.447661  ...    7.961059   -5.151105   \n",
      "3   0.946327  -1.046141  -2.057053   -2.056650  ...   -1.449095   -1.217685   \n",
      "4   3.152205   7.099882  -3.321076    3.245486  ...    6.608729    5.632297   \n",
      "\n",
      "   feature_14  feature_15  feature_16  feature_17  feature_18  feature_19  \\\n",
      "0    0.304866    0.777693   -9.375464    1.654446    3.012859   -4.497003   \n",
      "1    2.462773   -1.254824    2.978402   -3.428457   -4.562178    3.698665   \n",
      "2    0.473131   -4.070667   -0.932309   -3.230768   -7.844646    2.803798   \n",
      "3    2.026805    2.121829    3.184256   -1.960146    0.782147   -1.444202   \n",
      "4   -1.943748    1.169455    3.782513   -4.752822   -7.577624    4.868025   \n",
      "\n",
      "   feature_20  target  \n",
      "0   -2.520066       0  \n",
      "1   -1.923286       1  \n",
      "2   -2.963189       1  \n",
      "3    0.915985       0  \n",
      "4    1.708210       0  \n",
      "\n",
      "[5 rows x 21 columns]\n",
      "\n",
      "Model Accuracy: 0.9\n",
      "\n",
      "Classification Report:\n",
      "               precision    recall  f1-score   support\n",
      "\n",
      "           0       0.92      0.89      0.90       106\n",
      "           1       0.88      0.91      0.90        94\n",
      "\n",
      "    accuracy                           0.90       200\n",
      "   macro avg       0.90      0.90      0.90       200\n",
      "weighted avg       0.90      0.90      0.90       200\n",
      "\n"
     ]
    }
   ],
   "source": [
    "\n",
    "# Step 1: Generate the sample data\n",
    "# Creating a dataset with 1000 samples, 20 features, and a binary target\n",
    "X, y = make_classification(n_samples=1000, n_features=20, n_informative=15, \n",
    "                           n_redundant=5, n_classes=2, random_state=42)\n",
    "\n",
    "# Convert to pandas DataFrame for better visualization\n",
    "df = pd.DataFrame(X, columns=[f'feature_{i}' for i in range(1, 21)])\n",
    "df['target'] = y\n",
    "\n",
    "# Display the first 5 rows of the generated dataset\n",
    "print(\"Sample Data:\")\n",
    "print(df.head())\n",
    "\n",
    "# Step 2: Split the data into train and test sets\n",
    "X_train, X_test, y_train, y_test = train_test_split(X, y, test_size=0.2, random_state=42)\n",
    "\n",
    "# Step 3: Train a Random Forest Classifier\n",
    "rf_classifier = RandomForestClassifier(n_estimators=100, random_state=42)\n",
    "rf_classifier.fit(X_train, y_train)\n",
    "\n",
    "# Step 4: Make predictions on the test set\n",
    "y_pred = rf_classifier.predict(X_test)\n",
    "\n",
    "# Step 5: Evaluate the model\n",
    "accuracy = accuracy_score(y_test, y_pred)\n",
    "classification_rep = classification_report(y_test, y_pred)\n",
    "\n",
    "print(\"\\nModel Accuracy:\", accuracy)\n",
    "print(\"\\nClassification Report:\\n\", classification_rep)\n"
   ]
  },
  {
   "cell_type": "code",
   "execution_count": null,
   "id": "dd45f77e-2f6f-43e6-945e-63d172862d9d",
   "metadata": {},
   "outputs": [],
   "source": []
  }
 ],
 "metadata": {
  "kernelspec": {
   "display_name": "Python 3 (ipykernel)",
   "language": "python",
   "name": "python3"
  },
  "language_info": {
   "codemirror_mode": {
    "name": "ipython",
    "version": 3
   },
   "file_extension": ".py",
   "mimetype": "text/x-python",
   "name": "python",
   "nbconvert_exporter": "python",
   "pygments_lexer": "ipython3",
   "version": "3.12.4"
  }
 },
 "nbformat": 4,
 "nbformat_minor": 5
}
